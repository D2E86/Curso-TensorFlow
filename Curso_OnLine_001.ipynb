{
  "nbformat": 4,
  "nbformat_minor": 0,
  "metadata": {
    "colab": {
      "provenance": [],
      "authorship_tag": "ABX9TyPwjOw6cPav2FQsQDTiS4Ll"
    },
    "kernelspec": {
      "name": "python3",
      "display_name": "Python 3"
    },
    "language_info": {
      "name": "python"
    }
  },
  "cells": [
    {
      "cell_type": "code",
      "execution_count": null,
      "metadata": {
        "id": "RsxWdJFR7kIO"
      },
      "outputs": [],
      "source": [
        "import tensorflow as tf\n",
        "import numpy as np"
      ]
    },
    {
      "cell_type": "code",
      "source": [
        "# Estos son los ejemplos que le introducimos a la red neuronal (entradas y salidas que deben casar)\n",
        "celsius = np.array([-40,-10,0,8,15,22,38], dtype=float)\n",
        "farenheit = np.array([-40,14,32,46,59,72,100], dtype=float)"
      ],
      "metadata": {
        "id": "klhdknt87pUq"
      },
      "execution_count": null,
      "outputs": []
    },
    {
      "cell_type": "code",
      "source": [
        "# Keras, ayuda a hacer fácilmente las redes neuronales\n",
        "# Una capa densa es la que tiene conexiones de cada neurona a todas las neuronas de la siguiente capa\n",
        "#(número de capas, número de neuronas de entrada)\n",
        "capa = tf.keras.layers.Dense(units=1, input_shape=[1])\n",
        "# Modelo secuencial\n",
        "modelo = tf.keras.Sequential([capa])"
      ],
      "metadata": {
        "id": "rjEsaYEJ7pW5"
      },
      "execution_count": null,
      "outputs": []
    },
    {
      "cell_type": "code",
      "source": [
        "# Optimizador Adam -> Cómo ajustar los pesos y sesgos para que no \"desaprenda\"\n",
        "# La tasa de aprendizaje -> indica cuánto ajustar los pesos y sesgos; y, debe ser baja para que los modifique poco a poco\n",
        "modelo.compile(\n",
        "  optimizer = tf.keras.optimizers.Adam(0.1),\n",
        "  loss='mean_squared_error'\n",
        ")\n",
        "# Error cuadrático medio: Un error grande es peor que muchos errores pequeños\n",
        "# Función de pérdida"
      ],
      "metadata": {
        "id": "OeEoRbcc7pZJ"
      },
      "execution_count": null,
      "outputs": []
    },
    {
      "cell_type": "code",
      "source": [
        "print(\"Comenzando entrenamiento...\")\n",
        "historial = modelo.fit(celsius, farenheit, epochs=1000, verbose=False)\n",
        "print(\"Modelo entrenado\")"
      ],
      "metadata": {
        "colab": {
          "base_uri": "https://localhost:8080/"
        },
        "id": "IEsbwa5r7pbM",
        "outputId": "9ec09b76-7120-4775-9487-bbe24046c34c"
      },
      "execution_count": null,
      "outputs": [
        {
          "output_type": "stream",
          "name": "stdout",
          "text": [
            "Comenzando entrenamiento...\n",
            "Modelo entrenado\n"
          ]
        }
      ]
    },
    {
      "cell_type": "code",
      "source": [
        "# Vemos la función de pérdida: Comprueba cuánto de malos son los errores en cada época\n",
        "import matplotlib.pyplot as plt\n",
        "plt.xlabel(\" Epoca\")\n",
        "plt.ylabel( \"Magnitud de pérdida\")\n",
        "plt.plot(historial.history[\"loss\"])"
      ],
      "metadata": {
        "colab": {
          "base_uri": "https://localhost:8080/",
          "height": 467
        },
        "id": "k92huQD27pdJ",
        "outputId": "aacf3668-5986-4dd9-a4a0-0670c4509193"
      },
      "execution_count": null,
      "outputs": [
        {
          "output_type": "execute_result",
          "data": {
            "text/plain": [
              "[<matplotlib.lines.Line2D at 0x79d6d48b1f60>]"
            ]
          },
          "metadata": {},
          "execution_count": 6
        },
        {
          "output_type": "display_data",
          "data": {
            "text/plain": [
              "<Figure size 640x480 with 1 Axes>"
            ],
            "image/png": "[encoded data removed]"
          },
          "metadata": {}
        }
      ]
    },
    {
      "cell_type": "code",
      "source": [
        "### Vemos que a partir de la época 500 casi no aprende."
      ],
      "metadata": {
        "id": "l2RCpcek_xfI"
      },
      "execution_count": null,
      "outputs": []
    },
    {
      "cell_type": "code",
      "source": [
        "print(\"Hagamos una predicción...!\")\n",
        "resultado = modelo.predict([100.0])\n",
        "print(\"El resultado es \"+ str(resultado) + \" farenheit!\")"
      ],
      "metadata": {
        "colab": {
          "base_uri": "https://localhost:8080/"
        },
        "id": "jQkZK9TD7pfZ",
        "outputId": "83b8022b-58a3-45cf-da29-118a793d82fb"
      },
      "execution_count": null,
      "outputs": [
        {
          "output_type": "stream",
          "name": "stdout",
          "text": [
            "Hagamos una predicción...!\n",
            "1/1 [==============================] - 0s 75ms/step\n",
            "El resultado es [[211.74281]] farenheit!\n"
          ]
        }
      ]
    },
    {
      "cell_type": "code",
      "source": [
        "# Para ver las variables internas del modelo utilizamos:\n",
        "print(capa.get_weights())"
      ],
      "metadata": {
        "colab": {
          "base_uri": "https://localhost:8080/"
        },
        "id": "Jzhkyv-H7phb",
        "outputId": "f02cebfc-4280-43dc-942a-6960375e5402"
      },
      "execution_count": null,
      "outputs": [
        {
          "output_type": "stream",
          "name": "stdout",
          "text": [
            "[array([[1.7982234]], dtype=float32), array([31.920477], dtype=float32)]\n"
          ]
        }
      ]
    },
    {
      "cell_type": "code",
      "source": [],
      "metadata": {
        "id": "eHg218Ug7pjs"
      },
      "execution_count": null,
      "outputs": []
    },
    {
      "cell_type": "code",
      "source": [
        "# Ahora, creamos una segunda red neuronal. Esta vez con dos capas ocultas\n",
        "oculta1 = tf.keras.layers.Dense(units=3, input_shape=[1])\n",
        "oculta2 = tf.keras.layers.Dense(units=3, input_shape=[1])\n",
        "salida = tf.keras.layers.Dense(units=1)\n",
        "modelo = tf.keras.Sequential([oculta1, oculta2, salida])"
      ],
      "metadata": {
        "id": "pbdgFIMm7pls"
      },
      "execution_count": null,
      "outputs": []
    },
    {
      "cell_type": "code",
      "source": [
        "modelo.compile(\n",
        "  optimizer = tf.keras.optimizers.Adam(0.1),\n",
        "  loss='mean_squared_error'\n",
        ")"
      ],
      "metadata": {
        "id": "Uny3ORmu7pn-"
      },
      "execution_count": null,
      "outputs": []
    },
    {
      "cell_type": "code",
      "source": [
        "print(\"Comenzando entrenamiento...\")\n",
        "historial = modelo.fit(celsius, farenheit, epochs=1000, verbose=False)\n",
        "print(\"Modelo entrenado\")"
      ],
      "metadata": {
        "colab": {
          "base_uri": "https://localhost:8080/"
        },
        "id": "6CK_mOvF7pqL",
        "outputId": "6894d409-f59c-47c9-ee16-d63090796a3d"
      },
      "execution_count": null,
      "outputs": [
        {
          "output_type": "stream",
          "name": "stdout",
          "text": [
            "Comenzando entrenamiento...\n",
            "Modelo entrenado\n"
          ]
        }
      ]
    },
    {
      "cell_type": "code",
      "source": [
        "# Vemos la función de pérdida: Comprueba cuánto de malos son los errores en cada época\n",
        "import matplotlib.pyplot as plt\n",
        "plt.xlabel(\" Epoca\")\n",
        "plt.ylabel( \"Magnitud de pérdida\")\n",
        "plt.plot(historial.history[\"loss\"])"
      ],
      "metadata": {
        "colab": {
          "base_uri": "https://localhost:8080/",
          "height": 467
        },
        "id": "Lzo5FUaY7psM",
        "outputId": "d9ff7a92-95e0-4bc8-c35b-827a0a3db60e"
      },
      "execution_count": null,
      "outputs": [
        {
          "output_type": "execute_result",
          "data": {
            "text/plain": [
              "[<matplotlib.lines.Line2D at 0x79d62d5d67a0>]"
            ]
          },
          "metadata": {},
          "execution_count": 13
        },
        {
          "output_type": "display_data",
          "data": {
            "text/plain": [
              "<Figure size 640x480 with 1 Axes>"
            ],
            "image/png": "[encoded data removed]"
          },
          "metadata": {}
        }
      ]
    },
    {
      "cell_type": "code",
      "source": [
        "# Vemos que a partir de la época 20 o 30 casi no aprende.\n",
        "# También vemos que cuanto más compleja es la red neuronal, antes nos da buenos resultados."
      ],
      "metadata": {
        "id": "Y9nHAqs87pw8"
      },
      "execution_count": null,
      "outputs": []
    },
    {
      "cell_type": "code",
      "source": [
        "print(\"Hagamos una predicción...!\")\n",
        "resultado = modelo.predict([100.0])\n",
        "print(\"El resultado es \"+ str(resultado) + \" farenheit!\")"
      ],
      "metadata": {
        "colab": {
          "base_uri": "https://localhost:8080/"
        },
        "id": "rLgT68JZ_-Cn",
        "outputId": "723fed35-f880-49fd-fef1-e4f3cad964cb"
      },
      "execution_count": null,
      "outputs": [
        {
          "output_type": "stream",
          "name": "stdout",
          "text": [
            "Hagamos una predicción...!\n",
            "1/1 [==============================] - 0s 54ms/step\n",
            "El resultado es [[211.74747]] farenheit!\n"
          ]
        }
      ]
    },
    {
      "cell_type": "code",
      "source": [
        "# Para ver las variables internas del modelo utilizamos:\n",
        "print(oculta1.get_weights())\n",
        "print(oculta2.get_weights())\n",
        "print(salida.get_weights())"
      ],
      "metadata": {
        "colab": {
          "base_uri": "https://localhost:8080/"
        },
        "id": "2IVeaYC9_-E3",
        "outputId": "329f0471-0bf4-48ea-fb38-e49aa1f253b2"
      },
      "execution_count": null,
      "outputs": [
        {
          "output_type": "stream",
          "name": "stdout",
          "text": [
            "[array([[-0.4774624 , -0.39715105,  0.23783459]], dtype=float32), array([-3.064467 , -3.2060816, -2.5184011], dtype=float32)]\n",
            "[array([[-1.237139  ,  0.9755646 ,  0.5290064 ],\n",
            "       [ 0.48722845,  1.2644901 ,  1.0278522 ],\n",
            "       [ 0.32766947,  0.8451002 ,  1.0643821 ]], dtype=float32), array([ 2.638994 , -3.1075888, -3.1940238], dtype=float32)]\n",
            "[array([[ 0.68721735],\n",
            "       [-1.5976714 ],\n",
            "       [-0.6035523 ]], dtype=float32), array([3.0425649], dtype=float32)]\n"
          ]
        }
      ]
    },
    {
      "cell_type": "code",
      "source": [
        "# No podemos entender, a priori, por qué asigna esos pesos y sesgos pero son los que ha encontrado que se adaptan más al resultado."
      ],
      "metadata": {
        "id": "_qBIXenJ_-G5"
      },
      "execution_count": null,
      "outputs": []
    },
    {
      "cell_type": "code",
      "source": [],
      "metadata": {
        "id": "8kTMGvvi_-lJ"
      },
      "execution_count": null,
      "outputs": []
    }
  ]
}